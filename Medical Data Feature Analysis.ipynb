{
 "cells": [
  {
   "cell_type": "markdown",
   "id": "c83dd3a2",
   "metadata": {
    "heading_collapsed": true
   },
   "source": [
    "## Import Libraries and Data Frame"
   ]
  },
  {
   "cell_type": "code",
   "execution_count": 36,
   "id": "395aa3e7",
   "metadata": {
    "hidden": true
   },
   "outputs": [],
   "source": [
    "# Import Necessary Libraries\n",
    "\n",
    "import pandas as pd\n",
    "import numpy as np\n",
    "import matplotlib.pyplot as plt\n",
    "import seaborn as sns\n",
    "\n",
    "from scipy import stats"
   ]
  },
  {
   "cell_type": "code",
   "execution_count": 4,
   "id": "38e1be2a",
   "metadata": {
    "hidden": true
   },
   "outputs": [],
   "source": [
    "# Set Dataframe to show 100 Columns\n",
    "\n",
    "pd.set_option('display.max_columns', 100)"
   ]
  },
  {
   "cell_type": "code",
   "execution_count": 5,
   "id": "6c508fde",
   "metadata": {
    "hidden": true
   },
   "outputs": [
    {
     "data": {
      "text/html": [
       "<div>\n",
       "<style scoped>\n",
       "    .dataframe tbody tr th:only-of-type {\n",
       "        vertical-align: middle;\n",
       "    }\n",
       "\n",
       "    .dataframe tbody tr th {\n",
       "        vertical-align: top;\n",
       "    }\n",
       "\n",
       "    .dataframe thead th {\n",
       "        text-align: right;\n",
       "    }\n",
       "</style>\n",
       "<table border=\"1\" class=\"dataframe\">\n",
       "  <thead>\n",
       "    <tr style=\"text-align: right;\">\n",
       "      <th></th>\n",
       "      <th>State</th>\n",
       "      <th>Lat</th>\n",
       "      <th>Lng</th>\n",
       "      <th>Area</th>\n",
       "      <th>Children</th>\n",
       "      <th>Age</th>\n",
       "      <th>Income</th>\n",
       "      <th>Marital</th>\n",
       "      <th>Gender</th>\n",
       "      <th>ReAdmis</th>\n",
       "      <th>VitD_levels</th>\n",
       "      <th>Doc_visits</th>\n",
       "      <th>Full_meals_eaten</th>\n",
       "      <th>vitD_supp</th>\n",
       "      <th>Soft_drink</th>\n",
       "      <th>Initial_admin</th>\n",
       "      <th>HighBlood</th>\n",
       "      <th>Stroke</th>\n",
       "      <th>Complication_risk</th>\n",
       "      <th>Overweight</th>\n",
       "      <th>Arthritis</th>\n",
       "      <th>Diabetes</th>\n",
       "      <th>Hyperlipidemia</th>\n",
       "      <th>BackPain</th>\n",
       "      <th>Anxiety</th>\n",
       "      <th>Allergic_rhinitis</th>\n",
       "      <th>Reflux_esophagitis</th>\n",
       "      <th>Asthma</th>\n",
       "      <th>Services</th>\n",
       "      <th>Initial_days</th>\n",
       "      <th>TotalCharge</th>\n",
       "      <th>Additional_charges</th>\n",
       "    </tr>\n",
       "  </thead>\n",
       "  <tbody>\n",
       "    <tr>\n",
       "      <th>0</th>\n",
       "      <td>AL</td>\n",
       "      <td>34.34960</td>\n",
       "      <td>-86.72508</td>\n",
       "      <td>Suburban</td>\n",
       "      <td>1.0</td>\n",
       "      <td>53</td>\n",
       "      <td>86575.93</td>\n",
       "      <td>Divorced</td>\n",
       "      <td>Male</td>\n",
       "      <td>0</td>\n",
       "      <td>19.141466</td>\n",
       "      <td>6</td>\n",
       "      <td>0</td>\n",
       "      <td>0</td>\n",
       "      <td>0</td>\n",
       "      <td>Emergency Admission</td>\n",
       "      <td>1</td>\n",
       "      <td>0</td>\n",
       "      <td>Medium</td>\n",
       "      <td>0</td>\n",
       "      <td>1.0</td>\n",
       "      <td>1.0</td>\n",
       "      <td>0.0</td>\n",
       "      <td>1.0</td>\n",
       "      <td>1.0</td>\n",
       "      <td>1.0</td>\n",
       "      <td>0</td>\n",
       "      <td>1</td>\n",
       "      <td>Blood Work</td>\n",
       "      <td>10.585770</td>\n",
       "      <td>3726.702860</td>\n",
       "      <td>17939.403420</td>\n",
       "    </tr>\n",
       "    <tr>\n",
       "      <th>1</th>\n",
       "      <td>FL</td>\n",
       "      <td>30.84513</td>\n",
       "      <td>-85.22907</td>\n",
       "      <td>Urban</td>\n",
       "      <td>3.0</td>\n",
       "      <td>51</td>\n",
       "      <td>46805.99</td>\n",
       "      <td>Married</td>\n",
       "      <td>Female</td>\n",
       "      <td>0</td>\n",
       "      <td>18.940352</td>\n",
       "      <td>4</td>\n",
       "      <td>2</td>\n",
       "      <td>1</td>\n",
       "      <td>0</td>\n",
       "      <td>Emergency Admission</td>\n",
       "      <td>1</td>\n",
       "      <td>0</td>\n",
       "      <td>High</td>\n",
       "      <td>1</td>\n",
       "      <td>0.0</td>\n",
       "      <td>0.0</td>\n",
       "      <td>0.0</td>\n",
       "      <td>0.0</td>\n",
       "      <td>0.0</td>\n",
       "      <td>0.0</td>\n",
       "      <td>1</td>\n",
       "      <td>0</td>\n",
       "      <td>Intravenous</td>\n",
       "      <td>15.129562</td>\n",
       "      <td>4193.190458</td>\n",
       "      <td>17612.998120</td>\n",
       "    </tr>\n",
       "    <tr>\n",
       "      <th>2</th>\n",
       "      <td>SD</td>\n",
       "      <td>43.54321</td>\n",
       "      <td>-96.63772</td>\n",
       "      <td>Suburban</td>\n",
       "      <td>3.0</td>\n",
       "      <td>53</td>\n",
       "      <td>14370.14</td>\n",
       "      <td>Widowed</td>\n",
       "      <td>Female</td>\n",
       "      <td>0</td>\n",
       "      <td>18.057507</td>\n",
       "      <td>4</td>\n",
       "      <td>1</td>\n",
       "      <td>0</td>\n",
       "      <td>0</td>\n",
       "      <td>Elective Admission</td>\n",
       "      <td>1</td>\n",
       "      <td>0</td>\n",
       "      <td>Medium</td>\n",
       "      <td>1</td>\n",
       "      <td>0.0</td>\n",
       "      <td>1.0</td>\n",
       "      <td>0.0</td>\n",
       "      <td>0.0</td>\n",
       "      <td>0.0</td>\n",
       "      <td>0.0</td>\n",
       "      <td>0</td>\n",
       "      <td>0</td>\n",
       "      <td>Blood Work</td>\n",
       "      <td>4.772177</td>\n",
       "      <td>2434.234222</td>\n",
       "      <td>17505.192460</td>\n",
       "    </tr>\n",
       "    <tr>\n",
       "      <th>3</th>\n",
       "      <td>MN</td>\n",
       "      <td>43.89744</td>\n",
       "      <td>-93.51479</td>\n",
       "      <td>Suburban</td>\n",
       "      <td>0.0</td>\n",
       "      <td>78</td>\n",
       "      <td>39741.49</td>\n",
       "      <td>Married</td>\n",
       "      <td>Male</td>\n",
       "      <td>0</td>\n",
       "      <td>16.576858</td>\n",
       "      <td>4</td>\n",
       "      <td>1</td>\n",
       "      <td>0</td>\n",
       "      <td>0</td>\n",
       "      <td>Elective Admission</td>\n",
       "      <td>0</td>\n",
       "      <td>1</td>\n",
       "      <td>Medium</td>\n",
       "      <td>0</td>\n",
       "      <td>1.0</td>\n",
       "      <td>0.0</td>\n",
       "      <td>0.0</td>\n",
       "      <td>0.0</td>\n",
       "      <td>0.0</td>\n",
       "      <td>0.0</td>\n",
       "      <td>1</td>\n",
       "      <td>1</td>\n",
       "      <td>Blood Work</td>\n",
       "      <td>1.714879</td>\n",
       "      <td>2127.830423</td>\n",
       "      <td>12993.437350</td>\n",
       "    </tr>\n",
       "    <tr>\n",
       "      <th>4</th>\n",
       "      <td>VA</td>\n",
       "      <td>37.59894</td>\n",
       "      <td>-76.88958</td>\n",
       "      <td>Rural</td>\n",
       "      <td>1.0</td>\n",
       "      <td>22</td>\n",
       "      <td>1209.56</td>\n",
       "      <td>Widowed</td>\n",
       "      <td>Female</td>\n",
       "      <td>0</td>\n",
       "      <td>17.439069</td>\n",
       "      <td>5</td>\n",
       "      <td>0</td>\n",
       "      <td>2</td>\n",
       "      <td>1</td>\n",
       "      <td>Elective Admission</td>\n",
       "      <td>0</td>\n",
       "      <td>0</td>\n",
       "      <td>Low</td>\n",
       "      <td>0</td>\n",
       "      <td>0.0</td>\n",
       "      <td>NaN</td>\n",
       "      <td>1.0</td>\n",
       "      <td>0.0</td>\n",
       "      <td>0.0</td>\n",
       "      <td>1.0</td>\n",
       "      <td>0</td>\n",
       "      <td>0</td>\n",
       "      <td>CT Scan</td>\n",
       "      <td>1.254807</td>\n",
       "      <td>2113.073274</td>\n",
       "      <td>3716.525786</td>\n",
       "    </tr>\n",
       "  </tbody>\n",
       "</table>\n",
       "</div>"
      ],
      "text/plain": [
       "  State       Lat       Lng      Area  Children  Age    Income   Marital  \\\n",
       "0    AL  34.34960 -86.72508  Suburban       1.0   53  86575.93  Divorced   \n",
       "1    FL  30.84513 -85.22907     Urban       3.0   51  46805.99   Married   \n",
       "2    SD  43.54321 -96.63772  Suburban       3.0   53  14370.14   Widowed   \n",
       "3    MN  43.89744 -93.51479  Suburban       0.0   78  39741.49   Married   \n",
       "4    VA  37.59894 -76.88958     Rural       1.0   22   1209.56   Widowed   \n",
       "\n",
       "   Gender  ReAdmis  VitD_levels  Doc_visits  Full_meals_eaten  vitD_supp  \\\n",
       "0    Male        0    19.141466           6                 0          0   \n",
       "1  Female        0    18.940352           4                 2          1   \n",
       "2  Female        0    18.057507           4                 1          0   \n",
       "3    Male        0    16.576858           4                 1          0   \n",
       "4  Female        0    17.439069           5                 0          2   \n",
       "\n",
       "   Soft_drink        Initial_admin  HighBlood  Stroke Complication_risk  \\\n",
       "0           0  Emergency Admission          1       0            Medium   \n",
       "1           0  Emergency Admission          1       0              High   \n",
       "2           0   Elective Admission          1       0            Medium   \n",
       "3           0   Elective Admission          0       1            Medium   \n",
       "4           1   Elective Admission          0       0               Low   \n",
       "\n",
       "   Overweight  Arthritis  Diabetes  Hyperlipidemia  BackPain  Anxiety  \\\n",
       "0           0        1.0       1.0             0.0       1.0      1.0   \n",
       "1           1        0.0       0.0             0.0       0.0      0.0   \n",
       "2           1        0.0       1.0             0.0       0.0      0.0   \n",
       "3           0        1.0       0.0             0.0       0.0      0.0   \n",
       "4           0        0.0       NaN             1.0       0.0      0.0   \n",
       "\n",
       "   Allergic_rhinitis  Reflux_esophagitis  Asthma     Services  Initial_days  \\\n",
       "0                1.0                   0       1   Blood Work     10.585770   \n",
       "1                0.0                   1       0  Intravenous     15.129562   \n",
       "2                0.0                   0       0   Blood Work      4.772177   \n",
       "3                0.0                   1       1   Blood Work      1.714879   \n",
       "4                1.0                   0       0      CT Scan      1.254807   \n",
       "\n",
       "   TotalCharge  Additional_charges  \n",
       "0  3726.702860        17939.403420  \n",
       "1  4193.190458        17612.998120  \n",
       "2  2434.234222        17505.192460  \n",
       "3  2127.830423        12993.437350  \n",
       "4  2113.073274         3716.525786  "
      ]
     },
     "execution_count": 5,
     "metadata": {},
     "output_type": "execute_result"
    }
   ],
   "source": [
    "# Loading the Data\n",
    "\n",
    "df = pd.read_csv('Data/data-2.csv')\n",
    "\n",
    "df.head()"
   ]
  },
  {
   "cell_type": "markdown",
   "id": "95196532",
   "metadata": {},
   "source": [
    "## Feature Analysis "
   ]
  },
  {
   "cell_type": "markdown",
   "id": "9adb6449",
   "metadata": {
    "heading_collapsed": true
   },
   "source": [
    "### Feature Analysis of Vitamin D Levels"
   ]
  },
  {
   "cell_type": "markdown",
   "id": "7a99a63f",
   "metadata": {
    "heading_collapsed": true,
    "hidden": true
   },
   "source": [
    "#### Is it discrete or continuous?\n",
    "\n"
   ]
  },
  {
   "cell_type": "code",
   "execution_count": 35,
   "id": "9a8d04d3",
   "metadata": {
    "hidden": true
   },
   "outputs": [
    {
     "data": {
      "image/png": "[encoded data removed]",
      "text/plain": [
       "<Figure size 720x432 with 1 Axes>"
      ]
     },
     "metadata": {
      "needs_background": "light"
     },
     "output_type": "display_data"
    }
   ],
   "source": [
    "# Set figure size\n",
    "fig,ax = plt.subplots(figsize=(10,6))\n",
    "\n",
    "sns.histplot(data= df, x= 'VitD_levels');\n",
    "# Set Title\n",
    "ax.set_title('Vitamin D Levels');"
   ]
  },
  {
   "cell_type": "markdown",
   "id": "d1e6e1fa",
   "metadata": {
    "hidden": true
   },
   "source": [
    "The histogram shows there are no gaps between the bars. This is a sign of a continuous distribution."
   ]
  },
  {
   "cell_type": "markdown",
   "id": "3e837adf",
   "metadata": {
    "hidden": true
   },
   "source": [
    "#### Vitamin D KDE Histogram"
   ]
  },
  {
   "cell_type": "code",
   "execution_count": 29,
   "id": "62e453c7",
   "metadata": {
    "hidden": true
   },
   "outputs": [
    {
     "data": {
      "image/png": "[encoded data removed]",
      "text/plain": [
       "<Figure size 720x432 with 1 Axes>"
      ]
     },
     "metadata": {
      "needs_background": "light"
     },
     "output_type": "display_data"
    }
   ],
   "source": [
    "# Define and get the column for analysis\n",
    "\n",
    "col= 'VitD_levels'\n",
    "feature= df[col]\n",
    "\n",
    "# Get the Mean, Median, Std, +1 Std, -1 Std\n",
    "\n",
    "mean = feature.mean()\n",
    "median = feature.median()\n",
    "std = feature.std()\n",
    "plus_one_std = mean + std\n",
    "minus_one_std = mean - std\n",
    "\n",
    "# Set figure size\n",
    "fig,ax = plt.subplots(figsize=(10,6))\n",
    "\n",
    "# plot histogram with kde\n",
    "sns.histplot(feature, ax = ax, stat= 'probability',kde= True)\n",
    "\n",
    "# plot the mean as a red line\n",
    "ax.axvline(mean, color= 'red', label= f'Mean = {mean:,.2f}')\n",
    "\n",
    "#plot the median as a dotted green line\n",
    "ax.axvline(median, ls= '--', color= 'green',\n",
    "           label= f'Median = {median:,.2f}')\n",
    "\n",
    "# Set a black line for +1 Std and -1 Std\n",
    "ax.axvline(plus_one_std, color= 'black',\n",
    "           label= f'+1 Std = {plus_one_std:,.2f}')\n",
    "\n",
    "ax.axvline(minus_one_std, color= 'black',\n",
    "           label= f'-1 Std = {minus_one_std:,.2f}')\n",
    "\n",
    "# Fill in the range between -1 Std and +1 Std with yellow color\n",
    "ax.axvspan(plus_one_std, minus_one_std, color= 'yellow', zorder= 0)\n",
    "\n",
    "# Set Title\n",
    "ax.set_title('Vitamin D Levels')\n",
    "\n",
    "# Show the legend\n",
    "ax.legend();"
   ]
  },
  {
   "cell_type": "markdown",
   "id": "4c95caaa",
   "metadata": {
    "heading_collapsed": true,
    "hidden": true
   },
   "source": [
    "#### Does it have a scew? If so, in which direction? (+/-)\n",
    "\n",
    "It has a normal skew as the more values are grouped to the middle"
   ]
  },
  {
   "cell_type": "markdown",
   "id": "bfbb30e8",
   "metadata": {
    "hidden": true
   },
   "source": [
    "#### What type of Kurtosis does it display? (Mesokurtic, Leptokurtic, Platykurtic)"
   ]
  },
  {
   "cell_type": "code",
   "execution_count": 40,
   "id": "fb71d0cb",
   "metadata": {
    "hidden": true
   },
   "outputs": [
    {
     "data": {
      "text/plain": [
       "3.013147515833447"
      ]
     },
     "execution_count": 40,
     "metadata": {},
     "output_type": "execute_result"
    }
   ],
   "source": [
    "kurt = stats.kurtosis(df['VitD_levels'], fisher= False)\n",
    "kurt"
   ]
  },
  {
   "cell_type": "markdown",
   "id": "58c549a6",
   "metadata": {
    "hidden": true
   },
   "source": [
    "The Vitamin D Levels column has a calculated kurtosis of 3, therefore it is Mesokurtic, indicating a normal Kurtosis."
   ]
  },
  {
   "cell_type": "markdown",
   "id": "aff8aab2",
   "metadata": {
    "heading_collapsed": true
   },
   "source": [
    "### Feature Analysis of Doctor Visits"
   ]
  },
  {
   "cell_type": "markdown",
   "id": "4f202c0e",
   "metadata": {
    "heading_collapsed": true,
    "hidden": true
   },
   "source": [
    "#### Is it discrete or continuous?\n"
   ]
  },
  {
   "cell_type": "code",
   "execution_count": 34,
   "id": "0cc003d1",
   "metadata": {
    "hidden": true
   },
   "outputs": [
    {
     "data": {
      "image/png": "[encoded data removed]",
      "text/plain": [
       "<Figure size 720x432 with 1 Axes>"
      ]
     },
     "metadata": {
      "needs_background": "light"
     },
     "output_type": "display_data"
    }
   ],
   "source": [
    "# Set figure size\n",
    "fig,ax = plt.subplots(figsize=(10,6))\n",
    "\n",
    "sns.histplot(data= df, x= 'Doc_visits');\n",
    "# Set Title\n",
    "ax.set_title('Doctor Visit');"
   ]
  },
  {
   "cell_type": "markdown",
   "id": "916c6c4a",
   "metadata": {
    "hidden": true
   },
   "source": [
    "The histogram shows there are gaps between the bars. This is a sign of a discrete distribution."
   ]
  },
  {
   "cell_type": "markdown",
   "id": "a1ca4e86",
   "metadata": {
    "hidden": true
   },
   "source": [
    "#### Doctor Visit KDE Histogram"
   ]
  },
  {
   "cell_type": "code",
   "execution_count": 38,
   "id": "059c6b6e",
   "metadata": {
    "hidden": true
   },
   "outputs": [
    {
     "data": {
      "image/png": "[encoded data removed]",
      "text/plain": [
       "<Figure size 720x432 with 1 Axes>"
      ]
     },
     "metadata": {
      "needs_background": "light"
     },
     "output_type": "display_data"
    }
   ],
   "source": [
    "# Define and get the column for analysis\n",
    "\n",
    "col= 'Doc_visits'\n",
    "feature= df[col]\n",
    "\n",
    "# Get the Mean, Median, Std, +1 Std, -1 Std\n",
    "\n",
    "mean = feature.mean()\n",
    "median = feature.median()\n",
    "std = feature.std()\n",
    "plus_one_std = mean + std\n",
    "minus_one_std = mean - std\n",
    "\n",
    "# Set figure size\n",
    "fig,ax = plt.subplots(figsize=(10,6))\n",
    "\n",
    "# plot histogram with kde\n",
    "sns.histplot(feature, ax = ax, discrete= True, stat= 'probability',kde= True)\n",
    "\n",
    "# plot the mean as a red line\n",
    "ax.axvline(mean, color= 'red', label= f'Mean = {mean:,.2f}')\n",
    "\n",
    "#plot the median as a dotted green line\n",
    "ax.axvline(median, ls= '--', color= 'green',\n",
    "           label= f'Median = {median:,.2f}')\n",
    "\n",
    "# Set a black line for +1 Std and -1 Std\n",
    "ax.axvline(plus_one_std, color= 'black',\n",
    "           label= f'+1 Std = {plus_one_std:,.2f}')\n",
    "\n",
    "ax.axvline(minus_one_std, color= 'black',\n",
    "           label= f'-1 Std = {minus_one_std:,.2f}')\n",
    "\n",
    "# Fill in the range between -1 Std and +1 Std with yellow color\n",
    "ax.axvspan(plus_one_std, minus_one_std, color= 'yellow', zorder= 0)\n",
    "\n",
    "# Set Title\n",
    "ax.set_title('Doctor Visits')\n",
    "\n",
    "# Show the legend\n",
    "ax.legend();"
   ]
  },
  {
   "cell_type": "markdown",
   "id": "3631e65c",
   "metadata": {
    "hidden": true
   },
   "source": [
    "#### Does it have a scew? If so, in which direction? (+/-)\n",
    "\n",
    "\n",
    "It has a normal skew as the more values are grouped to the middle"
   ]
  },
  {
   "cell_type": "markdown",
   "id": "4bde72e7",
   "metadata": {
    "hidden": true
   },
   "source": [
    "#### What type of Kurtosis does it display? (Mesokurtic, Leptokurtic, Platykurtic)"
   ]
  },
  {
   "cell_type": "code",
   "execution_count": 42,
   "id": "5af50d12",
   "metadata": {
    "hidden": true
   },
   "outputs": [
    {
     "data": {
      "text/plain": [
       "2.9919958083381206"
      ]
     },
     "execution_count": 42,
     "metadata": {},
     "output_type": "execute_result"
    }
   ],
   "source": [
    "kurt = stats.kurtosis(df['Doc_visits'], fisher= False)\n",
    "kurt"
   ]
  },
  {
   "cell_type": "markdown",
   "id": "9ab7133b",
   "metadata": {
    "hidden": true
   },
   "source": [
    "The Doctor Visit column has a calculated kurtosis close to 3, therefore it is Mesokurtic, indicating a normal Kurtosis."
   ]
  },
  {
   "cell_type": "markdown",
   "id": "8e2b8b0e",
   "metadata": {
    "heading_collapsed": true
   },
   "source": [
    "### Feature Analysis of Total Charge"
   ]
  },
  {
   "cell_type": "markdown",
   "id": "1545d4d0",
   "metadata": {
    "heading_collapsed": true,
    "hidden": true
   },
   "source": [
    "#### Is it discrete or continuous?"
   ]
  },
  {
   "cell_type": "code",
   "execution_count": 28,
   "id": "c9800cb4",
   "metadata": {
    "hidden": true
   },
   "outputs": [
    {
     "data": {
      "image/png": "[encoded data removed]",
      "text/plain": [
       "<Figure size 720x432 with 1 Axes>"
      ]
     },
     "metadata": {
      "needs_background": "light"
     },
     "output_type": "display_data"
    }
   ],
   "source": [
    "# Set figure size\n",
    "fig,ax = plt.subplots(figsize=(10,6))\n",
    "\n",
    "sns.histplot(data= df, x= feature);\n",
    "# Set Title\n",
    "ax.set_title('Total Charge');"
   ]
  },
  {
   "cell_type": "markdown",
   "id": "fc1d763d",
   "metadata": {
    "hidden": true
   },
   "source": [
    "The histogram shows there are no gaps between the bars. This is a sign of a continuous distribution."
   ]
  },
  {
   "cell_type": "markdown",
   "id": "7d21be78",
   "metadata": {
    "hidden": true
   },
   "source": [
    "#### Total Charge KDE Histogram"
   ]
  },
  {
   "cell_type": "code",
   "execution_count": 23,
   "id": "e3fc2035",
   "metadata": {
    "hidden": true
   },
   "outputs": [
    {
     "data": {
      "image/png": "[encoded data removed]",
      "text/plain": [
       "<Figure size 720x432 with 1 Axes>"
      ]
     },
     "metadata": {
      "needs_background": "light"
     },
     "output_type": "display_data"
    }
   ],
   "source": [
    "# Define and get the column for analysis\n",
    "\n",
    "col= 'TotalCharge'\n",
    "feature= df[col]\n",
    "\n",
    "# Get the Mean, Median, Std, +1 Std, -1 Std\n",
    "\n",
    "mean = feature.mean()\n",
    "median = feature.median()\n",
    "std = feature.std()\n",
    "plus_one_std = mean + std\n",
    "minus_one_std = mean - std\n",
    "\n",
    "# Set figure size\n",
    "fig,ax = plt.subplots(figsize=(10,6))\n",
    "\n",
    "# plot histogram with kde\n",
    "sns.histplot(feature, ax = ax, stat= 'probability',kde= True)\n",
    "\n",
    "# plot the mean as a red line\n",
    "ax.axvline(mean, color= 'red', label= f'Mean = {mean:,.2f}')\n",
    "\n",
    "#plot the median as a dotted green line\n",
    "ax.axvline(median, ls= '--', color= 'green',\n",
    "           label= f'Median = {median:,.2f}')\n",
    "\n",
    "# Set a black line for +1 Std and -1 Std\n",
    "ax.axvline(plus_one_std, color= 'black',\n",
    "           label= f'+1 Std = {plus_one_std:,.2f}')\n",
    "\n",
    "ax.axvline(minus_one_std, color= 'black',\n",
    "           label= f'-1 Std = {minus_one_std:,.2f}')\n",
    "\n",
    "# Fill in the range between -1 Std and +1 Std with yellow color\n",
    "ax.axvspan(plus_one_std, minus_one_std, color= 'yellow', zorder= 0)\n",
    "\n",
    "# Set Title\n",
    "ax.set_title('Total Charge')\n",
    "# Show the legend\n",
    "ax.legend();"
   ]
  },
  {
   "cell_type": "markdown",
   "id": "afc9eefc",
   "metadata": {
    "hidden": true
   },
   "source": [
    "#### Does it have a scew? If so, in which direction? (+/-)\n",
    "\n",
    "Total Charge has a positive skew as more values are grouped to the left\n"
   ]
  },
  {
   "cell_type": "markdown",
   "id": "04a547a6",
   "metadata": {
    "hidden": true
   },
   "source": [
    "#### What type of Kurtosis does it display? (Mesokurtic, Leptokurtic, Platykurtic)"
   ]
  },
  {
   "cell_type": "code",
   "execution_count": 44,
   "id": "49679848",
   "metadata": {
    "hidden": true
   },
   "outputs": [
    {
     "data": {
      "text/plain": [
       "3.2650077463439384"
      ]
     },
     "execution_count": 44,
     "metadata": {},
     "output_type": "execute_result"
    }
   ],
   "source": [
    "kurt = stats.kurtosis(df['TotalCharge'], fisher= False)\n",
    "kurt"
   ]
  },
  {
   "cell_type": "markdown",
   "id": "3ae0b3bf",
   "metadata": {
    "hidden": true
   },
   "source": [
    "The Doctor Visit column has a calculated kurtosis greater than 3, therefore it is Leptokurtic, indicating a positive Kurtosis."
   ]
  },
  {
   "cell_type": "code",
   "execution_count": null,
   "id": "191cf4bd",
   "metadata": {
    "hidden": true
   },
   "outputs": [],
   "source": []
  }
 ],
 "metadata": {
  "kernelspec": {
   "display_name": "Python 3 (ipykernel)",
   "language": "python",
   "name": "python3"
  },
  "language_info": {
   "codemirror_mode": {
    "name": "ipython",
    "version": 3
   },
   "file_extension": ".py",
   "mimetype": "text/x-python",
   "name": "python",
   "nbconvert_exporter": "python",
   "pygments_lexer": "ipython3",
   "version": "3.8.13"
  },
  "toc": {
   "base_numbering": 1,
   "nav_menu": {},
   "number_sections": false,
   "sideBar": true,
   "skip_h1_title": false,
   "title_cell": "Table of Contents",
   "title_sidebar": "Contents",
   "toc_cell": false,
   "toc_position": {
    "height": "calc(100% - 180px)",
    "left": "10px",
    "top": "150px",
    "width": "264.796875px"
   },
   "toc_section_display": true,
   "toc_window_display": true
  }
 },
 "nbformat": 4,
 "nbformat_minor": 5
}
